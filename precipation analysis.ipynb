{
    "cells": [
        {
            "cell_type": "markdown",
            "metadata": {},
            "source": "Customer Transaction\nCustomer details"
        },
        {
            "cell_type": "code",
            "execution_count": 1,
            "metadata": {},
            "outputs": [
                {
                    "data": {
                        "text/html": "<div>\n<style scoped>\n    .dataframe tbody tr th:only-of-type {\n        vertical-align: middle;\n    }\n\n    .dataframe tbody tr th {\n        vertical-align: top;\n    }\n\n    .dataframe thead th {\n        text-align: right;\n    }\n</style>\n<table border=\"1\" class=\"dataframe\">\n  <thead>\n    <tr style=\"text-align: right;\">\n      <th></th>\n      <th>first_name</th>\n      <th>last_name</th>\n      <th>gender</th>\n      <th>past_3_years_bike_related_purchases</th>\n      <th>DOB</th>\n      <th>job_title</th>\n      <th>job_industry_category</th>\n      <th>wealth_segment</th>\n      <th>deceased_indicator</th>\n      <th>owns_car</th>\n      <th>...</th>\n      <th>state</th>\n      <th>country</th>\n      <th>property_valuation</th>\n      <th>Unnamed: 16</th>\n      <th>Unnamed: 17</th>\n      <th>Unnamed: 18</th>\n      <th>Unnamed: 19</th>\n      <th>Unnamed: 20</th>\n      <th>Rank</th>\n      <th>Value</th>\n    </tr>\n  </thead>\n  <tbody>\n    <tr>\n      <th>0</th>\n      <td>Chickie</td>\n      <td>Brister</td>\n      <td>Male</td>\n      <td>86</td>\n      <td>1957-07-12</td>\n      <td>General Manager</td>\n      <td>Manufacturing</td>\n      <td>Mass Customer</td>\n      <td>N</td>\n      <td>Yes</td>\n      <td>...</td>\n      <td>QLD</td>\n      <td>Australia</td>\n      <td>6</td>\n      <td>0.96</td>\n      <td>1.2000</td>\n      <td>1.5000</td>\n      <td>1.275000</td>\n      <td>1</td>\n      <td>1</td>\n      <td>1.718750</td>\n    </tr>\n    <tr>\n      <th>1</th>\n      <td>Morly</td>\n      <td>Genery</td>\n      <td>Male</td>\n      <td>69</td>\n      <td>1970-03-22</td>\n      <td>Structural Engineer</td>\n      <td>Property</td>\n      <td>Mass Customer</td>\n      <td>N</td>\n      <td>No</td>\n      <td>...</td>\n      <td>NSW</td>\n      <td>Australia</td>\n      <td>11</td>\n      <td>0.79</td>\n      <td>0.7900</td>\n      <td>0.9875</td>\n      <td>0.839375</td>\n      <td>1</td>\n      <td>1</td>\n      <td>1.718750</td>\n    </tr>\n    <tr>\n      <th>2</th>\n      <td>Ardelis</td>\n      <td>Forrester</td>\n      <td>Female</td>\n      <td>10</td>\n      <td>1974-08-28</td>\n      <td>Senior Cost Accountant</td>\n      <td>Financial Services</td>\n      <td>Affluent Customer</td>\n      <td>N</td>\n      <td>No</td>\n      <td>...</td>\n      <td>VIC</td>\n      <td>Australia</td>\n      <td>5</td>\n      <td>1.02</td>\n      <td>1.0200</td>\n      <td>1.0200</td>\n      <td>1.020000</td>\n      <td>1</td>\n      <td>1</td>\n      <td>1.718750</td>\n    </tr>\n    <tr>\n      <th>3</th>\n      <td>Lucine</td>\n      <td>Stutt</td>\n      <td>Female</td>\n      <td>64</td>\n      <td>1979-01-28</td>\n      <td>Account Representative III</td>\n      <td>Manufacturing</td>\n      <td>Affluent Customer</td>\n      <td>N</td>\n      <td>Yes</td>\n      <td>...</td>\n      <td>QLD</td>\n      <td>Australia</td>\n      <td>1</td>\n      <td>1.01</td>\n      <td>1.2625</td>\n      <td>1.2625</td>\n      <td>1.262500</td>\n      <td>4</td>\n      <td>4</td>\n      <td>1.703125</td>\n    </tr>\n    <tr>\n      <th>4</th>\n      <td>Melinda</td>\n      <td>Hadlee</td>\n      <td>Female</td>\n      <td>34</td>\n      <td>1965-09-21</td>\n      <td>Financial Analyst</td>\n      <td>Financial Services</td>\n      <td>Affluent Customer</td>\n      <td>N</td>\n      <td>No</td>\n      <td>...</td>\n      <td>NSW</td>\n      <td>Australia</td>\n      <td>9</td>\n      <td>0.70</td>\n      <td>0.7000</td>\n      <td>0.8750</td>\n      <td>0.875000</td>\n      <td>4</td>\n      <td>4</td>\n      <td>1.703125</td>\n    </tr>\n  </tbody>\n</table>\n<p>5 rows \u00d7 23 columns</p>\n</div>",
                        "text/plain": "  first_name  last_name  gender  past_3_years_bike_related_purchases  \\\n0    Chickie    Brister    Male                                   86   \n1      Morly     Genery    Male                                   69   \n2    Ardelis  Forrester  Female                                   10   \n3     Lucine      Stutt  Female                                   64   \n4    Melinda     Hadlee  Female                                   34   \n\n         DOB                   job_title job_industry_category  \\\n0 1957-07-12             General Manager         Manufacturing   \n1 1970-03-22         Structural Engineer              Property   \n2 1974-08-28      Senior Cost Accountant    Financial Services   \n3 1979-01-28  Account Representative III         Manufacturing   \n4 1965-09-21           Financial Analyst    Financial Services   \n\n      wealth_segment deceased_indicator owns_car  ...  state    country  \\\n0      Mass Customer                  N      Yes  ...    QLD  Australia   \n1      Mass Customer                  N       No  ...    NSW  Australia   \n2  Affluent Customer                  N       No  ...    VIC  Australia   \n3  Affluent Customer                  N      Yes  ...    QLD  Australia   \n4  Affluent Customer                  N       No  ...    NSW  Australia   \n\n   property_valuation Unnamed: 16 Unnamed: 17  Unnamed: 18  Unnamed: 19  \\\n0                   6        0.96      1.2000       1.5000     1.275000   \n1                  11        0.79      0.7900       0.9875     0.839375   \n2                   5        1.02      1.0200       1.0200     1.020000   \n3                   1        1.01      1.2625       1.2625     1.262500   \n4                   9        0.70      0.7000       0.8750     0.875000   \n\n   Unnamed: 20  Rank     Value  \n0            1     1  1.718750  \n1            1     1  1.718750  \n2            1     1  1.718750  \n3            4     4  1.703125  \n4            4     4  1.703125  \n\n[5 rows x 23 columns]"
                    },
                    "execution_count": 1,
                    "metadata": {},
                    "output_type": "execute_result"
                }
            ],
            "source": "# The code was removed by Watson Studio for sharing."
        },
        {
            "cell_type": "code",
            "execution_count": null,
            "metadata": {},
            "outputs": [],
            "source": ""
        }
    ],
    "metadata": {
        "kernelspec": {
            "display_name": "Python 3.6",
            "language": "python",
            "name": "python3"
        },
        "language_info": {
            "codemirror_mode": {
                "name": "ipython",
                "version": 3
            },
            "file_extension": ".py",
            "mimetype": "text/x-python",
            "name": "python",
            "nbconvert_exporter": "python",
            "pygments_lexer": "ipython3",
            "version": "3.6.9"
        }
    },
    "nbformat": 4,
    "nbformat_minor": 1
}